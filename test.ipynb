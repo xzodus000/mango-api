{
 "cells": [
  {
   "cell_type": "code",
   "execution_count": 6,
   "metadata": {},
   "outputs": [],
   "source": [
    "import cv2\n",
    "import pandas as pd\n",
    "import numpy as np\n",
    "import os\n",
    "from sklearn import preprocessing\n",
    "import time\n",
    "from collections import Counter\n",
    "from skimage.feature import hog\n",
    "from skimage import data, exposure\n",
    "# from skimage.feature import greycomatrix, greycoprops\n",
    "import math\n",
    "from skimage.feature import graycomatrix, graycoprops\n",
    "from scipy.stats import skew,kurtosis\n",
    "# from mahotas.features import surf\n",
    "from skimage import measure\n",
    "# import mahotas\n",
    "import mimetypes\n",
    "import matplotlib.pyplot as plt\n",
    "from skimage.filters import gabor\n",
    "from skimage.color import rgb2gray\n",
    "from PIL import Image"
   ]
  },
  {
   "cell_type": "code",
   "execution_count": null,
   "metadata": {},
   "outputs": [],
   "source": []
  },
  {
   "cell_type": "code",
   "execution_count": null,
   "metadata": {},
   "outputs": [],
   "source": []
  }
 ],
 "metadata": {
  "kernelspec": {
   "display_name": "Python 3",
   "language": "python",
   "name": "python3"
  },
  "language_info": {
   "codemirror_mode": {
    "name": "ipython",
    "version": 3
   },
   "file_extension": ".py",
   "mimetype": "text/x-python",
   "name": "python",
   "nbconvert_exporter": "python",
   "pygments_lexer": "ipython3",
   "version": "3.11.4"
  }
 },
 "nbformat": 4,
 "nbformat_minor": 2
}
